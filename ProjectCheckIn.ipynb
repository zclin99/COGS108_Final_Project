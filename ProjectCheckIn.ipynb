{
 "cells": [
  {
   "cell_type": "markdown",
   "metadata": {},
   "source": [
    "# COGS 108 Final Project Check-In"
   ]
  },
  {
   "cell_type": "markdown",
   "metadata": {},
   "source": [
    "# Names\n",
    "\n",
    "- Jiawei Zheng\n",
    "- Zhi Chong Chris Lin\n",
    "- Weijie Cheng\n",
    "- Yunlin Tang\n",
    "- Yuhang Chen"
   ]
  },
  {
   "cell_type": "markdown",
   "metadata": {},
   "source": [
    "# Group Members IDs\n",
    "\n",
    "- A14895383\n",
    "- A14970682\n",
    "- A14901005\n",
    "- A14664383\n",
    "- A15551753"
   ]
  },
  {
   "cell_type": "markdown",
   "metadata": {},
   "source": [
    "# Accomplishments"
   ]
  },
  {
   "cell_type": "markdown",
   "metadata": {},
   "source": [
    "*Briefly explain what your group has accomplished up to this point on your final project.*\n",
    "\n",
    "Initially, we looked through lecture slides to get some inspirations on how we can carry out our project. For the project proposal, we had a good idea of which dataset we will use and decided on a research question and hypothesis based on our background research. We also examined some ethics consideration from the dataset and listed some team expectations given our finalized timeline. After we handed in the proposal, we followed our timeline and discussed wrangling and possible analytical approaches. Specifically, we assigned group members to lead each specific part. \n",
    "\n",
    "Jiawei was responsible for cleaning the dataset and using the correlation map to find relevant factors in determining house prices.\n",
    "\n",
    "Chris was in charge of pre-analysis data visualization, demonstrating the distributions and relationships of the highly correlated factors we found earlier.\n",
    "\n",
    "Weijie took the role in looking at summary statistics of our dataset and leading the discussion at our analysis plan meeting.\n",
    "\n",
    "Yunlin guided our analysis by finding relevant background articles and previous analysis so we had more resources in performing our analysis.\n",
    "\n",
    "Yuhang helped us improve our timeline after we received our proposal feedback as many previous aspects need to be tuned more specifically.\n",
    "\n"
   ]
  },
  {
   "cell_type": "markdown",
   "metadata": {},
   "source": [
    "# Going Well"
   ]
  },
  {
   "cell_type": "markdown",
   "metadata": {},
   "source": [
    "*Briefly explain what has gone well so far in completing your group project.*\n",
    "\n",
    "We are feeling comfortable with dealing with our data. We believe that the dataset we have is very helpful in analyzing our hypothesis. We are also in good shapes with dealing with ethics and privacy. Our groupmates are very reliabe and contribute to the project uniformilly. Although we were not able to meet up in meetings due to schedule conflicts, we were still able to meet up online.\n",
    "\n",
    "After finishing our proposal, we have also found several different articles regarding our project, which gave us more ideas on how to perform our analysis. Overall we feel very confident on our project, and hope that we can keep on working with the same energy for the rest of the quarter"
   ]
  },
  {
   "cell_type": "markdown",
   "metadata": {},
   "source": [
    "# Struggles"
   ]
  },
  {
   "cell_type": "markdown",
   "metadata": {},
   "source": [
    "*Breifly explain what snags or issues your group has faced.*\n",
    "\n",
    "First we needed find the appropriate data sets for out project. We decided to use the dataset that was published on the kaggle website. Since the data sets on the kaggle website are numerous and from different topic, we had a hard time to choose which one we could use. To choose an interesting dataset that is relevant to our project, we have explored the observations and attributes in those potential datasets in order to evaluate the feasibility and usability.\n",
    "\n",
    "After we decided to use \"House Prices: Advanced Regression Techniques\" as our dataset, we then encountered another difficult problem. There are numbers of different variables included in this dataset. We have to choose some features that are relevant to our hypothesis so that the dataset will be more concise and straightforward. As shown below, there are 81 attributes in the table. Among these columns, there are 79 potential features which excluded the 'Id' and 'SalePrice' columns. We had a hard time to determine which features should be kept and which should be removed. We have to consider not only the relevance and correlation between these attributes and the house sale price, but also the issue of ethic such as the data privacy to protect the personal information. We roughly removed some trivial variables and planed to further clean the dataset for next step.\n",
    "\n",
    "In addition, we also have struggle in meeting with each other because of the schedule conflicts. Since four of our group members are juniors and one is sophomore, we have heavy workloads in other courses in a degree. However, we all worked remotely in indivial free time following the project timeline in our proposal and got meeting during the weekends."
   ]
  },
  {
   "cell_type": "markdown",
   "metadata": {},
   "source": [
    "# Plan Forward"
   ]
  },
  {
   "cell_type": "markdown",
   "metadata": {},
   "source": [
    "*Explain what your plan is for successful completion of your COGS 108 project. If any issues have arisen, address your plan for addressing these issues throughout the rest of the quarter.*\n",
    "\n",
    "After we receive the feedback, our method of conducting the project should be more sophisticated. Using the cleaned dataset we will perform exploratory data analysis on the columns we choose. Statistics like mean, mode and standard deviation provides us with a clear picture of the distribution of the column. By plotting the distribution of all the houses, we can choose a subset of the data which has similar attributes apart from their proximities to cities. After the EDA, using the chosen column and subset of data, we will run a regression model to see if there exists a significant relationship between the house prices and their proximities to cities. Then, we will build a prediction model and evaluate its standard error and we will tune its parameters to improve its performance. Some further the analysis, we could compare the effect of city proximity to some other attributes to see how significant it is."
   ]
  }
 ],
 "metadata": {
  "kernelspec": {
   "display_name": "Python 3",
   "language": "python",
   "name": "python3"
  },
  "language_info": {
   "codemirror_mode": {
    "name": "ipython",
    "version": 3
   },
   "file_extension": ".py",
   "mimetype": "text/x-python",
   "name": "python",
   "nbconvert_exporter": "python",
   "pygments_lexer": "ipython3",
   "version": "3.7.2"
  }
 },
 "nbformat": 4,
 "nbformat_minor": 2
}
