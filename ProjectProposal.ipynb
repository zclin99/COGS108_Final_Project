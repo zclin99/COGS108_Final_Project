{
 "cells": [
  {
   "cell_type": "markdown",
   "metadata": {
    "colab_type": "text",
    "id": "VgK40RG8P-84"
   },
   "source": [
    "# COGS 108 - Final Project Proposal"
   ]
  },
  {
   "cell_type": "markdown",
   "metadata": {
    "colab_type": "text",
    "id": "LU89YeAtP-87"
   },
   "source": [
    "# Names\n",
    "\n",
    "- Jiawei Zheng\n",
    "- Zhi Chong Chris Lin\n",
    "- Weijie Cheng\n",
    "- Yunlin Tang\n",
    "- Yuhang Chen"
   ]
  },
  {
   "cell_type": "markdown",
   "metadata": {
    "colab_type": "text",
    "id": "QedoBkzbkaIv"
   },
   "source": [
    "# Group Members IDs\n",
    "\n",
    "- A14895383\n",
    "- A14970682\n",
    "- A14901005\n",
    "- A14664383\n",
    "- A15551753"
   ]
  },
  {
   "cell_type": "markdown",
   "metadata": {
    "colab_type": "text",
    "id": "Tkci2P3oP-88"
   },
   "source": [
    "# Research Question"
   ]
  },
  {
   "cell_type": "markdown",
   "metadata": {
    "colab_type": "text",
    "id": "F2CTkVcJP-89"
   },
   "source": [
    "*   What are the major factors that critically affect the house prices in the market?\n",
    "*   How do the potential factors, such as the house occupancy area, building year and geographical location, perfrom in determing the sales price in house market?"
   ]
  },
  {
   "cell_type": "markdown",
   "metadata": {
    "colab_type": "text",
    "id": "zJ9ZksPdP-8-"
   },
   "source": [
    "## Background and Prior Work"
   ]
  },
  {
   "cell_type": "markdown",
   "metadata": {
    "colab_type": "text",
    "id": "sVrGniAKP-8_"
   },
   "source": [
    "*Fill in your background and prior work here. Be sure to specify which statements are from which references.* "
   ]
  },
  {
   "cell_type": "markdown",
   "metadata": {
    "colab_type": "text",
    "id": "_ihI4F4rsyqd"
   },
   "source": [
    "Housing is one of the most important lifetime investments one can make. While it can be a long-term equity with a fair market value, it can also have some short-term benefits in terms of paying yourself instead of a landlord. We believe that San Diego is a fine place because it is known for its warm weather climate, ideal location to the ocean, devloping education and job opportunities, and the ease of transportation. However, we are not sure whether these aspects are truly important to housebuyers. Therefore, we will dig into our project from the view of looking at which factors contribute the most to house prices.\n",
    "\n",
    "According to [8 critical factors that influence a home’s value](https://www.opendoor.com/w/blog/factors-that-influence-home-value) we see that neighborhood, location, size, age, and upgrades are the relevant factors that determine the value of each house, each of which playing an important role to different degrees. There are also some social and economical factors such as the local real estate market, economic indicators, and interest rates, which are more or less controlled by the government and state-level legislations. Thus, in order to complete a comprehensive analysis on our topic, we will look for datasets that contain descriptive data on the qualities of the asset itself, existing utilities and facilities, proximity to highways, utility lines, and public transit, and the occupancy square footages.\n",
    "\n",
    "References (include links):\n",
    "- 1) https://www.opendoor.com/w/blog/factors-that-influence-home-value"
   ]
  },
  {
   "cell_type": "markdown",
   "metadata": {
    "colab_type": "text",
    "id": "o4t0hv82P-9A"
   },
   "source": [
    "# Hypothesis\n"
   ]
  },
  {
   "cell_type": "markdown",
   "metadata": {
    "colab_type": "text",
    "id": "x7V-9xXBP-9B"
   },
   "source": [
    "House area and porch area are the best preidictors for house prices. It is reasonable to say that the larger the house, the more desireable it is. Compare to aspects such as pool area or facility condition, area provides the residence with much more substantial benefits."
   ]
  },
  {
   "cell_type": "markdown",
   "metadata": {
    "colab_type": "text",
    "id": "-ZN427gqP-9C"
   },
   "source": [
    "# Data"
   ]
  },
  {
   "cell_type": "markdown",
   "metadata": {
    "colab_type": "text",
    "id": "8axUwsVppaCh"
   },
   "source": [
    "For our reseach question, the dataset \n",
    "should include different potential factors of house prices, such as house occupancy area, neighborhood location, house style, avaliability of utilities, house measurement, number of rooms, and quality of facilities. Beside these variables, we also need the house sale prices as the indicator of each instances. \n",
    "\n",
    "The ideal size of the dataset will be around 1000 obeservations. This size of dataset will allow us efficiently train and test our model by using analytical methods in Python. In addition, We would like to access these datas through an ehtical and proper way, such as from the public property sales record or the published dataset in the market. The dataset may be stored and organized as one or serveral tables. Further, we would like to see these datas stored in some \"friendly\" file types as the structured data models, such as CSVs or DataFrames in pandas packages."
   ]
  },
  {
   "cell_type": "markdown",
   "metadata": {
    "colab_type": "text",
    "id": "28ghAMC7P-9D"
   },
   "source": [
    "# Ethics & Privacy"
   ]
  },
  {
   "cell_type": "markdown",
   "metadata": {
    "colab_type": "text",
    "id": "hms7_yHiP-9E"
   },
   "source": [
    "* *The Question*\n",
    "\n",
    "We believe that our question is well proposed and neutral in the fields of house pricing. We have some background knowledge of how housing prices work but we have choosed to focus on the asset itself.\n",
    "\n",
    "* *Implications* \n",
    "\n",
    "The Stakeholders are going to be the people that live in Ames, Iowa. This will help them determine what the factors of a house is important while deciding to buy a house. We don't think that this would create any nefarious side effects, since we are only determining how the overall quality, the functionality, and the style of a house affects house prices. It might slightly influence house owners that want to sell their house, but other than the id and neighborhood, there is not much strong identifiers of the properties.\n",
    "\n",
    "* *Data Collection* \n",
    "\n",
    "We ultimately did not collect any data, since we found some available publicly on kaggle. Considering these are house-prices of that are available for the public to see, they implicitly provide consent to make the such data available to anyone. We believe variables like price and date built were mandatory to be displayed in order for a house to be sold.\n",
    "\n",
    "* *Analysis*\n",
    "\n",
    "All of our analysis visualizations do not have any PPI. **`We have no strong analysis conclusions yet.`** We made sure to acknowledge the bias of this dataset toward only looking at the details of the houses and the price of each house. We will be careful in generalizing our results to the typical house.\n",
    "\n",
    "* *Privacy*\n",
    "\n",
    "We are aware that projects need to take into account ethics and privacy, and we need to be careful while handling these issues. In order to assure that we do not infringe such expectations we are going to anonymize our data. By doing so, our results will not harm the owners of the houses we analyze in our database. We will be using the Safe Harbor Method to properly anonymize our data thoroughly and only keep neighborhood as a general location identifier.\n",
    "\n",
    "* *Evaluation*\n",
    "\n",
    "Our research is not looking for a result in particular. Thus, we are complying with the Goodhart's Law. We hope to find what factors of the house affects thier prices in the area of study. We will do so by comparing these houses to all the houses in several proximities.\n",
    "\n",
    "* *Transparency & Appeal*\n",
    "\n",
    "We believe that there is a correlation between house age and house price, but we might end up finding covariates of house sizes or house apparatuses. There are various ways to refute our hypothesis. For instance, if the pattern of distrubution of between house age and house price does not fluctuate with a visible regression, we can easily refute our hypothesis. We could also see a negative correlation. The only way for our hypothesis to succeed is to have a positive correlation for housing age and price."
   ]
  },
  {
   "cell_type": "markdown",
   "metadata": {
    "colab_type": "text",
    "id": "QkQfXo9pP-9F"
   },
   "source": [
    "# Team Expectations "
   ]
  },
  {
   "cell_type": "markdown",
   "metadata": {
    "colab_type": "text",
    "id": "l4boGsqNP-9G"
   },
   "source": [
    "* *We are going to set up a time before working together on a part of the project*\n",
    "* *We are going to meet online or offline while we work on the project*\n",
    "* *Everyone must be present and contribute while working on the project*\n",
    "* *We are going to meet twice a week, once during the weekdays, and once during the weekend*\n",
    "* *We are going work for at least 2 hours in these meetings*\n",
    "* *If someone is not going to participate in one of the meetings, we will assign jobs for them, and they will need to finish their portion before the next meeting*"
   ]
  },
  {
   "cell_type": "markdown",
   "metadata": {
    "colab_type": "text",
    "id": "eB_l7zzSP-9H"
   },
   "source": [
    "# Project Timeline Proposal"
   ]
  },
  {
   "cell_type": "markdown",
   "metadata": {
    "colab_type": "text",
    "id": "APcD54fhP-9I"
   },
   "source": [
    "| Meeting Date  | Meeting Time| Completed Before Meeting  | Discuss at Meeting |\n",
    "|---|---|---|---|\n",
    "| 1/21  |  10 AM | Read & Think about COGS 108 expectations; brainstorm topics/questions  | Determine best form of communication; Look at some interesting data on Kaggle; discuss and decide on final project topic; decide on team expectations; begin background research | \n",
    "| 1/26  |  12 PM |  Do background research on topic | Discuss ideal dataset(s) and ethics; draft project proposal; discuss hypothesis | \n",
    "| 1/30  | 10 AM  | Finalize proposal | Discuss Wrangling and possible analytical approaches; Assign group members to lead each specific part |\n",
    "| 2/7  | 10 AM  | Import & Clean Data | Pre-analysis data visualization; Discuss Analysis Plan   |\n",
    "| 2/14  | 7 PM  | Data Wrangling; EDA | Review/Edit wrangling/EDA; Finalize Analysis Plan   |\n",
    "| 2/23  | 12 PM  | Finalize wrangling/EDA; Begin Analysis | Discuss/edit Analysis; Complete project check-in |\n",
    "| 3/13  | 12 PM  | Complete analysis; Draft results/conclusion/discussion | Discuss/edit full project |\n",
    "| 3/19  | Before 11:59 PM  | NA | Turn in Final Project & Group Project Surveys |"
   ]
  },
  {
   "cell_type": "code",
   "execution_count": 0,
   "metadata": {
    "colab": {},
    "colab_type": "code",
    "id": "edL5z7kCQCAz"
   },
   "outputs": [],
   "source": []
  }
 ],
 "metadata": {
  "colab": {
   "collapsed_sections": [],
   "name": "ProjectProposal.ipynb",
   "provenance": []
  },
  "kernelspec": {
   "display_name": "Python 3",
   "language": "python",
   "name": "python3"
  },
  "language_info": {
   "codemirror_mode": {
    "name": "ipython",
    "version": 3
   },
   "file_extension": ".py",
   "mimetype": "text/x-python",
   "name": "python",
   "nbconvert_exporter": "python",
   "pygments_lexer": "ipython3",
   "version": "3.7.3"
  }
 },
 "nbformat": 4,
 "nbformat_minor": 1
}
